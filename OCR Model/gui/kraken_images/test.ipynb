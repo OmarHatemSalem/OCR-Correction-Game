{
 "cells": [
  {
   "cell_type": "code",
   "execution_count": 26,
   "metadata": {},
   "outputs": [],
   "source": [
    "import functools\n",
    "import os\n",
    "input_folder = \"C:\\\\Users\\\\omarh\\\\Google Drive (omarhatem2002@aucegypt.edu)\\\\CS\\\\Library\\\\yasa\"\n",
    "\n",
    "output_folder = input_folder.split(\"\\\\\")[:-1]\n",
    "output_folder.append(\"txt_kraken\")\n",
    "output_folder = functools.reduce(lambda x,y: x+\"\\\\\"+y, output_folder)\n",
    "output_folder += \"\\\\\"\n",
    "\n",
    "# output_folder += input_folder[:-1]+\"txt_kraken\""
   ]
  },
  {
   "cell_type": "code",
   "execution_count": 27,
   "metadata": {},
   "outputs": [
    {
     "data": {
      "text/plain": [
       "'C:\\\\Users\\\\omarh\\\\Google Drive (omarhatem2002@aucegypt.edu)\\\\CS\\\\Library\\\\txt_kraken\\\\'"
      ]
     },
     "execution_count": 27,
     "metadata": {},
     "output_type": "execute_result"
    }
   ],
   "source": [
    "output_folder"
   ]
  },
  {
   "cell_type": "code",
   "execution_count": 28,
   "metadata": {},
   "outputs": [],
   "source": [
    "ln = len([entry for entry in os.listdir(input_folder) if os.path.isfile(os.path.join(input_folder, entry))])\n"
   ]
  },
  {
   "cell_type": "code",
   "execution_count": 29,
   "metadata": {},
   "outputs": [
    {
     "data": {
      "text/plain": [
       "18"
      ]
     },
     "execution_count": 29,
     "metadata": {},
     "output_type": "execute_result"
    }
   ],
   "source": [
    "ln"
   ]
  },
  {
   "cell_type": "code",
   "execution_count": null,
   "metadata": {},
   "outputs": [],
   "source": []
  }
 ],
 "metadata": {
  "kernelspec": {
   "display_name": "base",
   "language": "python",
   "name": "python3"
  },
  "language_info": {
   "codemirror_mode": {
    "name": "ipython",
    "version": 3
   },
   "file_extension": ".py",
   "mimetype": "text/x-python",
   "name": "python",
   "nbconvert_exporter": "python",
   "pygments_lexer": "ipython3",
   "version": "3.8.5"
  },
  "orig_nbformat": 4
 },
 "nbformat": 4,
 "nbformat_minor": 2
}
